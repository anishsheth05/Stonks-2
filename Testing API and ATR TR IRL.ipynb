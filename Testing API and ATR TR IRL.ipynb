{
 "cells": [
  {
   "cell_type": "code",
   "execution_count": 152,
   "metadata": {},
   "outputs": [],
   "source": [
    "# data structure and working with data api's\n",
    "import numpy as np\n",
    "import pandas as pd\n",
    "# graphing/plotting super cool charts api\n",
    "import plotly.graph_objects as go\n",
    "from plotly.subplots import make_subplots\n",
    "# trade api\n",
    "import alpaca_trade_api as trader\n",
    "# stock data api\n",
    "import yfinance as yf\n",
    "# processing data/getting indicators api\n",
    "import talib\n",
    "# time data\n",
    "import time\n",
    "import datetime\n",
    "from pandas.tseries.offsets import BDay\n",
    "import threading"
   ]
  },
  {
   "cell_type": "code",
   "execution_count": 153,
   "metadata": {},
   "outputs": [],
   "source": [
    "class Indicators():\n",
    "    def __init__(self, mode='Close'):\n",
    "        \n",
    "        # initialization function, assigns the variable indicators all the indicators so that default the optimizer can use that as its primary means of attack.\n",
    "        # the mode is just whether we will base stuff on the Close, Open, High or Low\n",
    "        \n",
    "        self.indicators = ['SMA20', 'SMA60', 'SMA50', 'SMA/EMA20', 'SMA/EMA50', 'EMA12', 'EMA50',\n",
    "                            'BBS', 'RSI', 'TEMA', 'MACD1', 'MACD2', 'MACD3', 'HTITRENDLINE', 'PSAR']\n",
    "        self.Mode = mode\n",
    "        \n",
    "    def indicator(self, df, indicator, plot=False):\n",
    "        # necessary method to use when working with data and needing to get an indicator. Needed for trailing stops as well, which\n",
    "        # themselves are the crutch of the scoring.\n",
    "        \n",
    "        if indicator == 'SMA20':\n",
    "            return self.Averages(df, plot=plot)\n",
    "        elif indicator == 'SMA60':\n",
    "            return self.Averages(df, period1=60, period2=90, plot=plot)\n",
    "        elif indicator == 'SMA50':\n",
    "            return self.Averages(df, period1=50, period2=200, plot=plot)\n",
    "        elif indicator == 'SMA/EMA20':\n",
    "            return self.Averages(df, period1=20, period2=20, mode=2, plot=plot)\n",
    "        elif indicator == 'SMA/EMA50':\n",
    "            return self.Averages(df, period1=50, period2=50, mode=2, plot=plot)\n",
    "        elif indicator == 'EMA12':\n",
    "            return self.Averages(df, period1=12, period2=26, mode=3, plot=plot)\n",
    "        elif indicator == 'EMA50':\n",
    "            return self.Averages(df, period1=50, period2=50, mode=3, plot=plot)\n",
    "        elif indicator == 'TEMA':\n",
    "            return self.Averages(df, period1=25, period2=50, mode=4, plot=plot)\n",
    "        elif indicator == 'KAMA':\n",
    "            return self.Averages(df, period1=25, period2=50, mode=5, plot=plot)\n",
    "        elif indicator == 'BBS':\n",
    "            return self.Bollingers(df, plot=plot)\n",
    "        elif indicator == 'RSI':\n",
    "            return self.RSI(df, plot=plot)\n",
    "        elif indicator == 'MACD1':\n",
    "            return self.MACD(df, mode=1, plot=plot)\n",
    "        elif indicator == 'MACD2':\n",
    "            return self.MACD(df, mode=2, plot=plot)\n",
    "        elif indicator == 'MACD3':\n",
    "            return self.MACD(df, mode=3, plot=plot)\n",
    "        elif indicator == 'HTITRENDLINE':\n",
    "            return self.HilbertTransform(df, plot=plot)\n",
    "        elif indicator == 'PSAR':\n",
    "            return self.PSAR(df, acc=0.075, maxi=0.1, plot=plot)\n",
    "        return None\n",
    "    \n",
    "    # Following are the trailing stops, going to be necessary to determine when to exit the strats.\n",
    "    # Namely the Average True Range Trailing Stops are the needed operation for the entire code (but all code is neccesary for all the code ig)\n",
    "    \n",
    "    def TrailStop(self, df, indicator, increment, buy_order=True):\n",
    "        buy, sell, dummy, dummy = self.indicator(df, indicator)\n",
    "        bought = False\n",
    "        TrailingPrice = pd.Series(name = 'TrailingPrice', dtype='float')\n",
    "        Exit = pd.Series(name = 'Exit', dtype='int')\n",
    "        i = 0\n",
    "        if buy_order:\n",
    "            df = pd.concat([df, buy.astype(bool).astype(int).rename('Entry')], axis=1)\n",
    "            df.Entry.replace(np.nan, 0, inplace=True)\n",
    "            for k, index in enumerate(df.index):\n",
    "                if bought:\n",
    "                    if df['Close'][index] - (TrailingPrice[TrailingPrice.index[i-1]] + increment) > 0:\n",
    "                        TrailingPrice[index] = df['Close'][index] - increment\n",
    "                    else:\n",
    "                        TrailingPrice[index] = TrailingPrice[TrailingPrice.index[i-1]]\n",
    "                    i += 1\n",
    "                    if df['Close'][index] < TrailingPrice[index]:\n",
    "                        bought = False\n",
    "                        Exit[index] = 1\n",
    "                elif df['Entry'][index].astype(bool):\n",
    "                    TrailingPrice[index] = df['Close'][index] - increment\n",
    "                    bought = True\n",
    "                    i += 1\n",
    "        else:\n",
    "            df = pd.concat([df, sell.astype(bool).astype(int).rename('Entry')], axis=1)\n",
    "            df.Entry.replace(np.nan, 0, inplace=True)\n",
    "            for k, index in enumerate(df.index):\n",
    "                if bought:\n",
    "                    if (df['Close'][index] + increment) < TrailingPrice[TrailingPrice.index[i-1]]:\n",
    "                        TrailingPrice[index] = df['Close'][index] + increment\n",
    "                    else:\n",
    "                        TrailingPrice[index] = TrailingPrice[TrailingPrice.index[i-1]]\n",
    "                    i += 1\n",
    "                    if df['Close'][index] > TrailingPrice[index]:\n",
    "                        bought = False\n",
    "                        Exit[index] = 1\n",
    "                elif df['Entry'][index].astype(bool):\n",
    "                    TrailingPrice[index] = df['Close'][index] + increment\n",
    "                    bought = True\n",
    "                    i += 1\n",
    "        df = pd.concat([df, TrailingPrice, Exit], axis=1)\n",
    "        return df.Entry.replace(0, np.nan).dropna(), df.Exit.dropna()\n",
    "        \n",
    "    def ATR_TR(self, df, indicator, mult=3, buy_order=True):\n",
    "        buy, sell, dummy, dummy = self.indicator(df, indicator, plot=False)\n",
    "        atr = self.ATR(df, plot=False)\n",
    "        bought = False\n",
    "        TrailingPrice = pd.Series(name = 'TrailingPrice', dtype='float')\n",
    "        Exit = pd.Series(name = 'Exit', dtype='int')\n",
    "        i = 0\n",
    "        if buy_order:\n",
    "            df = pd.concat([df, buy.astype(bool).astype(int).rename('Entry')], axis=1)\n",
    "            df.Entry.replace(np.nan, 0, inplace=True)\n",
    "            for k, index in enumerate(df.index):\n",
    "                increment = atr[index] * mult\n",
    "                if bought:\n",
    "                    if df['Close'][index] - (TrailingPrice[TrailingPrice.index[i-1]] + increment) > 0:\n",
    "                        TrailingPrice[index] = df['Close'][index] - increment\n",
    "                    else:\n",
    "                        TrailingPrice[index] = TrailingPrice[TrailingPrice.index[i-1]]\n",
    "                    i += 1\n",
    "                    if df['Close'][index] < TrailingPrice[index]:\n",
    "                        bought = False\n",
    "                        Exit[index] = 1\n",
    "                elif df['Entry'][index].astype(bool):\n",
    "                    TrailingPrice[index] = df['Close'][index] - increment\n",
    "                    bought = True\n",
    "                    i += 1\n",
    "        else:\n",
    "            df = pd.concat([df, sell.astype(bool).astype(int).rename('Entry')], axis=1)\n",
    "            df.Entry.replace(np.nan, 0, inplace=True)\n",
    "            for k, index in enumerate(df.index):\n",
    "                increment = atr[index] * mult\n",
    "                if bought:\n",
    "                    if (df['Close'][index] + increment) < TrailingPrice[TrailingPrice.index[i-1]]:\n",
    "                        TrailingPrice[index] = df['Close'][index] + increment\n",
    "                    else:\n",
    "                        TrailingPrice[index] = TrailingPrice[TrailingPrice.index[i-1]]\n",
    "                    i += 1\n",
    "                    if df['Close'][index] > TrailingPrice[index]:\n",
    "                        bought = False\n",
    "                        Exit[index] = 1\n",
    "                elif df['Entry'][index].astype(bool):\n",
    "                    TrailingPrice[index] = df['Close'][index] + increment\n",
    "                    bought = True\n",
    "                    i += 1\n",
    "        df = pd.concat([df, TrailingPrice, Exit], axis=1)\n",
    "        return df.Entry.replace(0, np.nan).dropna(), df.Exit.dropna(), TrailingPrice\n",
    "    \n",
    "    # Following are the actual indicators, here's where a lot of the action happens.\n",
    "    # The indicators look like a lot of things are going on, but stripped away of the plotting necessities they\n",
    "    # would be extremely short, and that will happen as soon as the actual paper trading stuffs is completed.\n",
    "        \n",
    "    def ATR(self, df, period=14, plot=True):\n",
    "        atr = talib.ATR(df.High, df.Low, df.Close, timeperiod=period)\n",
    "        if plot:\n",
    "            fig = make_subplots(rows=2, cols=1, column_widths=[1], row_heights=[0.8, 0.2], specs =\n",
    "                               [ [ {'type': 'candlestick'} ], [ {'type': 'scatter'} ] ], shared_xaxes=True )\n",
    "            trace1 = go.Candlestick(x=df.index, open=df.Open, high=df.High, low=df.Low, close=df.Close, name='Stock Data')\n",
    "            trace2 = go.Scatter(x=atr.index, y=atr, name='Average True Range')\n",
    "            fig.add_trace(trace1, row=1, col=1)\n",
    "            fig.add_trace(trace2, row=2, col=1)\n",
    "            fig.update_layout(xaxis_rangeslider_visible=False)\n",
    "            fig.show()\n",
    "        return atr\n",
    "    \n",
    "    def Averages(self, df, period1=20, period2=50, mode=1, plot=True):\n",
    "        # ok so looks very complicated, but I will try to simplify for myself:\n",
    "        # close gets the Close data for the specified ticker.\n",
    "        # From there, we get two SMAs that default to 20-period and 50-period, but you can specify if you want.\n",
    "        # Taking the difference of the two SMAs can tell us when to buy and sell -\n",
    "        # we call get_buy_sell, which iterates through the differences, and when the 20-p goes above 50-p it's a buy signal,\n",
    "        # and vice versa when 20-p goes below 50-p.\n",
    "        # Plotting is interesting: we make multiple traces with different plots, and then overlay the plots, leading to complete graph that is also interactive.\n",
    "        close = df[self.Mode]\n",
    "        if mode == 1:\n",
    "            avg1 = talib.SMA(close, timeperiod=period1)\n",
    "            avg2 = talib.SMA(close, timeperiod=period2)\n",
    "        elif mode == 2:\n",
    "            avg1 = talib.SMA(close, timeperiod=period1)\n",
    "            avg2 = talib.EMA(close, timeperiod=period2)\n",
    "        elif mode == 3:\n",
    "            avg1 = talib.EMA(close, timeperiod=period1)\n",
    "            avg2 = talib.EMA(close, timeperiod=period2)\n",
    "        elif mode == 4:\n",
    "            avg1 = talib.TEMA(close, timeperiod=period1)\n",
    "            avg2 = talib.TEMA(close, timeperiod=period2)\n",
    "        elif mode == 5:\n",
    "            avg1 = talib.KAMA(close, timeperiod=period1)\n",
    "            avg2 = talib.KAMA(close, timeperiod=period2)\n",
    "        diff = avg1 - avg2\n",
    "        buy_times, sell_times = self.get_buy_sell(diff)\n",
    "        if plot:\n",
    "            buy_times, sell_times = self.parse_buy_sell(buy_times, sell_times, close)\n",
    "            trace1, trace4, trace5 = self.get_traces(df, buy_times, sell_times)\n",
    "            trace2 = go.Scatter(x=avg1.index, y=avg1, name=str(period1)+' Period Average')\n",
    "            trace3 = go.Scatter(x=avg2.index, y=avg2, name=str(period2)+' Period Average')\n",
    "            fig = go.Figure(data=[trace1, trace2, trace3, trace4, trace5])\n",
    "            fig.update_layout(xaxis_rangeslider_visible=False)\n",
    "            fig.show()\n",
    "        else:\n",
    "            buy_times, sell_times = self.parse_buy_sell(buy_times, sell_times, close, clean=False)\n",
    "        return buy_times, sell_times, close[avg1 > avg2].rename('Good'), close[avg1 <= avg2].rename('Bad')\n",
    "    \n",
    "    def Bollingers(self, df, period=20, plot=True):\n",
    "        close = df[self.Mode]\n",
    "        upper, middle, lower = talib.BBANDS(close, timeperiod=period)\n",
    "        up_mid, middle, low_mid = talib.BBANDS(close, timeperiod=period, nbdevup=1, nbdevdn=1)\n",
    "        diff1 = close - up_mid\n",
    "        diff2 = close - low_mid\n",
    "        buy_times, sell_times = self.get_buy_sell(diff1, diff2)\n",
    "        if plot:\n",
    "            buy_times, sell_times = self.parse_buy_sell(buy_times, sell_times, close)\n",
    "            trace1, trace6, trace7 = self.get_traces(df, buy_times, sell_times)\n",
    "            trace2 = go.Scatter(x=middle.index, y=upper, line={'color':'rgba(0, 255, 0, 0.8)'}, name='Buy Range', showlegend=False)\n",
    "            trace3 = go.Scatter(x=middle.index, y=up_mid, fill='tonexty', fillcolor='rgba(0, 255, 0, 0.2)', line={'color':'rgba(255, 255, 0, 0.8)'}, name='No Man\\'s Land')\n",
    "            trace4 = go.Scatter(x=middle.index, y=low_mid, fill='tonexty', fillcolor='rgba(255, 255, 0, 0.2)', line={'color':'rgba(255, 255, 0, 0.8)'}, name='No Man\\'s Land')\n",
    "            trace5 = go.Scatter(x=middle.index, y=lower, fill='tonexty', fillcolor='rgba(255, 0, 0, 0.2)', line={'color':'rgba(100, 0, 0, 0.8)'}, name='Sell Range')\n",
    "            fig = go.Figure(data=[trace1, trace2, trace3, trace4, trace5, trace6, trace7])\n",
    "            fig.update_layout(xaxis_rangeslider_visible=False)\n",
    "            fig.show()\n",
    "        else:\n",
    "            buy_times, sell_times = self.parse_buy_sell(buy_times, sell_times, close, clean=False)\n",
    "        return buy_times, sell_times, close[close > up_mid].rename('Good'), close[close <= low_mid].rename('Bad')\n",
    "    \n",
    "    def RSI(self, df, period=14, sell_at=None, buy_at=None, plot=True):\n",
    "        close = df[self.Mode]\n",
    "        rsi = talib.RSI(close, timeperiod=period)\n",
    "        sell_point = rsi.max() - ( rsi.std() / 2 ) or sell_at\n",
    "        buy_point = rsi.min() + ( rsi.std() / 2 ) or buy_at\n",
    "        diff1 = rsi - sell_point\n",
    "        diff2 = rsi - buy_point\n",
    "        sell_times, buy_times = self.get_buy_sell(diff1, diff2)\n",
    "        if plot:\n",
    "            buy_times, sell_times = self.parse_buy_sell(buy_times, sell_times, close, clean=False)\n",
    "            fig = make_subplots(rows=2, cols=1, column_widths=[1], row_heights=[0.8, 0.2], specs =\n",
    "                               [ [ {'type': 'candlestick'} ], [ {'type': 'scatter'} ] ], shared_xaxes=True )\n",
    "            trace1, trace2, trace3 = self.get_traces(df, buy_times, sell_times)\n",
    "            trace4 = go.Scatter(x=rsi.index, y=rsi, name='RSI')\n",
    "            fig.add_trace(trace1, row=1, col=1)\n",
    "            fig.add_trace(trace2, row=1, col=1)\n",
    "            fig.add_trace(trace3, row=1, col=1)\n",
    "            fig.add_trace(trace4, row=2, col=1)\n",
    "            fig.update_layout(xaxis_rangeslider_visible=False)\n",
    "            fig.show()\n",
    "        else:\n",
    "            buy_times, sell_times = self.parse_buy_sell(buy_times, sell_times, close, clean=False)\n",
    "        return buy_times, sell_times, close[rsi >= buy_point], close[rsi <= sell_point]\n",
    "    \n",
    "    def TripExAverages(self, df, period1=25, period2=50, plot=True):\n",
    "        close = df[self.Mode]\n",
    "        tea1 = talib.TEMA(close, timeperiod=period1)\n",
    "        tea2 = talib.TEMA(close, timeperiod=period2)\n",
    "        diff = tea1 - tea2\n",
    "        buy_times, sell_times = self.get_buy_sell(diff)\n",
    "        if plot:\n",
    "            buy_times, sell_times = self.parse_buy_sell(buy_times, sell_times, close)\n",
    "            trace1, trace4, trace5 = self.get_traces(df, buy_times, sell_times)\n",
    "            trace2 = go.Scatter(x=tea1.index, y=tea1, name=str(period1)+' Period TEMA')\n",
    "            trace3 = go.Scatter(x=tea2.index, y=tea2, name=str(period2)+' Period TEMA')\n",
    "            fig = go.Figure(data=[trace1, trace2, trace3, trace4, trace5])\n",
    "            fig.update_layout(xaxis_rangeslider_visible=False)\n",
    "            fig.show()\n",
    "        else:\n",
    "            buy_times, sell_times = self.parse_buy_sell(buy_times, sell_times, close, clean=False)\n",
    "        return buy_times, sell_times, close[tea1 > tea2].rename('Good'), close[tea1 <= tea2].rename('Bad')\n",
    "    \n",
    "    def MACD(self, df, period1=12, period2=26, period3=9, mode=1, plot=True):\n",
    "        close = df[self.Mode]\n",
    "        macd, macd_avg, macd_hist = talib.MACD(close, fastperiod=period1, slowperiod=period2, signalperiod=period3)\n",
    "        if mode == 1:\n",
    "            diff = macd.copy()\n",
    "        elif mode == 2:\n",
    "            diff = macd_hist.copy()\n",
    "        else:\n",
    "            diff = macd_avg - macd\n",
    "        buy_times, sell_times = self.get_buy_sell(diff)\n",
    "        if plot:\n",
    "            buy_times, sell_times = self.parse_buy_sell(buy_times, sell_times, close)\n",
    "            fig = make_subplots(rows=2, cols=1, column_widths=[1], row_heights=[1, 1], specs =\n",
    "                               [ [ {'type': 'candlestick'} ], [ {'type': 'bar'} ] ], shared_xaxes=True )\n",
    "            trace1, trace2, trace3 = self.get_traces(df, buy_times, sell_times)\n",
    "            trace4 = go.Bar(x=macd_hist[macd_hist > 0].index, y=macd_hist[macd_hist > 0], marker_color='green', name='MACD Histogram')\n",
    "            trace5 = go.Bar(x=macd_hist[macd_hist <= 0].index, y=macd_hist[macd_hist <= 0], marker_color='red', name='MACD Histogram')\n",
    "            trace6 = go.Scatter(x=macd.index, y=macd, name='MACD')\n",
    "            trace7 = go.Scatter(x=macd_avg.index, y=macd_avg, name='MACD Average')\n",
    "            fig.add_trace(trace1, row=1, col=1)\n",
    "            fig.add_trace(trace2, row=1, col=1)\n",
    "            fig.add_trace(trace3, row=1, col=1)\n",
    "            fig.add_trace(trace4, row=2, col=1)\n",
    "            fig.add_trace(trace5, row=2, col=1)\n",
    "            fig.add_trace(trace6, row=2, col=1)\n",
    "            fig.add_trace(trace7, row=2, col=1)\n",
    "            fig.update_layout(xaxis_rangeslider_visible=False)\n",
    "            fig.show()\n",
    "        else:\n",
    "            buy_times, sell_times = self.parse_buy_sell(buy_times, sell_times, close, clean=False)\n",
    "        return buy_times, sell_times, None, None\n",
    "    \n",
    "    def HilbertTransform(self, df, plot=True):\n",
    "        close = df[self.Mode]\n",
    "        htit = talib.HT_TRENDLINE(close)\n",
    "        diff = close - htit\n",
    "        buy_times, sell_times = self.get_buy_sell(diff)\n",
    "        if plot:\n",
    "            buy_times, sell_times = self.parse_buy_sell(buy_times, sell_times, close)\n",
    "            trace1, trace3, trace4 = self.get_traces(df, buy_times, sell_times)\n",
    "            trace2 = go.Scatter(x=htit.index, y=htit, name='Hilbert Transform Instantaneous Trendline')\n",
    "            fig = go.Figure(data=[trace1, trace2, trace3, trace4])\n",
    "            fig.update_layout(xaxis_rangeslider_visible=False)\n",
    "            fig.show()\n",
    "        else:\n",
    "            buy_times, sell_times = self.parse_buy_sell(buy_times, sell_times, close, clean=False)\n",
    "        return buy_times, sell_times, None, None\n",
    "    \n",
    "    def PSAR(self, df, acc=0.01, maxi=0.1, plot=True):\n",
    "        close = df[self.Mode]\n",
    "        sar = talib.SAR(df.High, df.Low, acceleration = acc, maximum=maxi)\n",
    "        diff = close - sar\n",
    "        buy_times, sell_times = self.get_buy_sell(diff)\n",
    "        if plot:\n",
    "            buy_times, sell_times = self.parse_buy_sell(buy_times, sell_times, close)\n",
    "            trace1, trace3, trace4 = self.get_traces(df, buy_times, sell_times)\n",
    "            trace2 = go.Scatter(x=sar.index, y=sar, name='Parabalic Stop and Reverse')\n",
    "            fig = go.Figure(data=[trace1, trace2, trace3, trace4])\n",
    "            fig.update_layout(xaxis_rangeslider_visible=False)\n",
    "            fig.show()\n",
    "        else:\n",
    "            buy_times, sell_times = self.parse_buy_sell(buy_times, sell_times, close, clean=False)\n",
    "        return buy_times, sell_times, None, None\n",
    "    \n",
    "    \n",
    "    # Following are methods helping with the coding of indicators, they are very clutch\n",
    "    \n",
    "    def get_buy_sell(self, diff1, diff2=0):\n",
    "        try:\n",
    "            if diff2 == 0:\n",
    "                diff2 = diff1\n",
    "        except ValueError:\n",
    "            pass\n",
    "        buy_times = []\n",
    "        sell_times = []\n",
    "        for i in range(1, len(diff1)):\n",
    "            if (diff1[i-1] <= 0 and diff1[i] >= 0):\n",
    "                buy_times.append(diff1.index[i])\n",
    "            elif (diff2[i-1] >= 0 and diff2[i] <= 0):\n",
    "                sell_times.append(diff2.index[i])\n",
    "        return buy_times, sell_times\n",
    "    \n",
    "    def parse_buy_sell(self, buy, sell, close, clean=True):\n",
    "        df = pd.concat([close[buy].rename('Buy', inplace=True).to_frame(), close[sell].rename('Sell', inplace=True).to_frame()], axis=1)\n",
    "        df.index.name = 'Date/Time'\n",
    "        df.sort_values('Date/Time', inplace=True)\n",
    "        if clean:\n",
    "            current=''\n",
    "            for index in df.index:\n",
    "                if np.isnan(df.Buy[index]):\n",
    "                    if current == 'Sell':\n",
    "                        df.drop(labels=index, axis=0, inplace=True)\n",
    "                    else:\n",
    "                        current = 'Sell'\n",
    "                else:\n",
    "                    if current == 'Buy':\n",
    "                        df.drop(labels=index, axis=0, inplace=True)\n",
    "                    else:\n",
    "                        current = 'Buy'\n",
    "        buy = df['Buy']\n",
    "        sell = df['Sell']\n",
    "        buy.dropna(axis=0, inplace=True)\n",
    "        sell.dropna(axis=0, inplace=True)\n",
    "        return buy, sell\n",
    "    \n",
    "    def get_traces(self, df, buy_times, sell_times):\n",
    "        trace1 = go.Candlestick(x=df.index, open=df['Open'], high=df['High'], low=df['Low'], close=df['Close'], name='Stock Data')\n",
    "        trace2 = go.Scatter(x=buy_times.index, y=buy_times, mode='markers', name='Buy Points', marker_color='green', marker_size=10)\n",
    "        trace3 = go.Scatter(x=sell_times.index, y=sell_times, mode='markers', name='Sell Points', marker_color='red', marker_size=10)\n",
    "        return trace1, trace2, trace3\n",
    "    \n",
    "    # functions for self use in graphing and dependencies, unrelated to the evaluation pipeline\n",
    "    \n",
    "    def plot(self, df, buy_times='SMA20', sell_times='SMA20'):\n",
    "        buy_times, dummy, dummy, dummy = self.indicator(df, buy_times)\n",
    "        dummy, sell_times, dummy, dummy = self.indicator(df, sell_times)\n",
    "        trace1, trace2, trace3 = self.get_traces(df, buy_times, sell_times)\n",
    "        fig = go.Figure(data=[trace1, trace2, trace3])\n",
    "        fig.update_layout(xaxis_rangeslider_visible=False)\n",
    "        fig.show()\n",
    "    "
   ]
  },
  {
   "cell_type": "code",
   "execution_count": 326,
   "metadata": {},
   "outputs": [],
   "source": [
    "class Stoinks:    \n",
    "    def __init__(self, tickers=None,indicators=None, mode='Close', margin=1, run=1, history=('1d', '1m')):\n",
    "        # when you make a new stoinks object, it'll automatically just do all this to initialize the object, 'Averages60', 'Averages50'\n",
    "        # to see method explanations go to those methods, self.Tickers = tickers just is initializing that variable,\n",
    "        # same with self.Indicators\n",
    "        start = time.time()\n",
    "        self.Process = Indicators(mode)\n",
    "        if tickers is None:\n",
    "            self.Tickers = ['msft', 'aapl', 'tsla', 'oxy']\n",
    "        else:\n",
    "            self.Tickers = tickers\n",
    "        if indicators is None:\n",
    "            self.Indicators = self.Process.indicators.copy()\n",
    "        else:\n",
    "            self.Indicators = indicators\n",
    "        if run == 1:\n",
    "            self.run(history, margin=margin)\n",
    "        elif run == 2:\n",
    "            self.run(history, optimize=False, margin=margin)\n",
    "        end = time.time()\n",
    "        print(str(end - start)+' Seconds Elasped')\n",
    "    \n",
    "    # the following methods are used as part of the optimization pipeline, which figures out the best indicator per stock,\n",
    "    # and then based off that the best stocks themselves\n",
    "    \n",
    "    def run(self, history, optimize=True, margin=5):\n",
    "        self.parse_data()\n",
    "        self.histories(period=history[0], interval=history[1])\n",
    "        if optimize:\n",
    "            self.score_all()\n",
    "            self.optimize(margin=margin)\n",
    "        \n",
    "    def parse_data(self):\n",
    "        # fills up the dictionary stocks, which has the ticker objects that you access using the symbol,\n",
    "        # eg: self.Stocks['aapl'] gives the ticker object for apple (ticker is the object type used by yfinance)\n",
    "        self.Stocks = {}\n",
    "        for symbol in self.Tickers:\n",
    "            self.Stocks[symbol] = yf.Ticker(symbol)\n",
    "        \n",
    "    def histories(self, period='1d', interval='1m'):\n",
    "        # fills up the dictionary object histories, which has dataframes that you access using the symbol,\n",
    "        # eg: self.Histories['msft'] gives the microsoft stock dataframe for the specified period and interval during initialization\n",
    "        self.Histories = {}\n",
    "        i = 0\n",
    "        while i < len(self.Tickers):\n",
    "            try:\n",
    "                self.Histories[self.Tickers[i]] = self.Stocks[self.Tickers[i]].history(period=period, interval=interval)\n",
    "                if self.Histories[self.Tickers[i]].index[0] is None:\n",
    "                    print('Achievement Unlocked: How did we get here?')\n",
    "                i += 1\n",
    "            except IndexError:\n",
    "                print(i)\n",
    "                print(self.Tickers[i])\n",
    "                self.Histories.pop(self.Tickers[i])\n",
    "                self.Stocks.pop(self.Tickers[i])\n",
    "                self.Tickers.remove(self.Tickers[i])\n",
    "                continue\n",
    "    \n",
    "    def optimize(self, margin=5):\n",
    "        self.Optimal = {}\n",
    "        self.Profitable = {}\n",
    "        self.Buyable = {}\n",
    "        self.Sellable = {}\n",
    "        for ticker in self.Scores:\n",
    "            self.Optimal[ticker] = {}\n",
    "            buffer1 = self.Scores[ticker]['buy_indicator'][0]\n",
    "            buffer2 = self.Scores[ticker]['sell_indicator'][0]\n",
    "            self.Optimal[ticker]['buy_indicator'] = buffer1[0]\n",
    "            self.Optimal[ticker]['sell_indicator'] = buffer2[0]\n",
    "            if buffer1[1] >= margin and buffer2[1] >= margin:\n",
    "                self.Profitable[ticker] = {}\n",
    "                self.Profitable[ticker]['buy_indicator'] = buffer1[0]\n",
    "                self.Profitable[ticker]['sell_indicator'] = buffer2[0]\n",
    "            elif buffer1[1] >= margin and buffer2[1] > 0:\n",
    "                self.Buyable[ticker] = {}\n",
    "                self.Buyable[ticker]['buy_indicator'] = buffer1[0]\n",
    "                self.Buyable[ticker]['sell_indicator'] = buffer2[0]\n",
    "            elif buffer2[1] >= margin and buffer1[1] > 0:\n",
    "                self.Sellable[ticker] = {}\n",
    "                self.Sellable[ticker]['buy_indicator'] = buffer1[0]\n",
    "                self.Sellable[ticker]['sell_indicator'] = buffer2[0]\n",
    "        self.Optimal = pd.DataFrame(self.Optimal)\n",
    "        \n",
    "        x = lambda y: [[x, self.Scores[x]['buy_indicator'][0][0], self.Scores[x]['sell_indicator'][0][0]] for x in y]\n",
    "        self.Goods = x({**self.Profitable, **self.Buyable, **self.Sellable})\n",
    "        \n",
    "        return self.Optimal, self.Profitable\n",
    "    \n",
    "    def score_all(self):\n",
    "        self.Scores = {}\n",
    "        for ticker in self.Tickers:\n",
    "            wrapper = {'buy_indicator': [], 'sell_indicator': []}\n",
    "            for indicator in self.Indicators:\n",
    "                wrapper['buy_indicator'].append([indicator, 100*self.cost_score(ticker, indicator)[0]/self.Histories[ticker].Close.mean()])\n",
    "                wrapper['sell_indicator'].append([indicator, 100*self.cost_score(ticker, indicator, buy_order=False)[0]/self.Histories[ticker].Close.mean()])\n",
    "            wrapper['buy_indicator'].sort(key=lambda x:x[1], reverse=True)\n",
    "            wrapper['sell_indicator'].sort(key=lambda x:x[1], reverse=True)\n",
    "            self.Scores[ticker] = wrapper\n",
    "        return self.Scores\n",
    "        \n",
    "    def cost_score(self, ticker, indicator, buy_order=True):\n",
    "        entry, exit, dummy = self.Process.ATR_TR(self.Histories[ticker], indicator=indicator, buy_order=buy_order)\n",
    "        df = self.clean(entry, exit, clean=True)\n",
    "        profits = []\n",
    "        for i, index in enumerate(df.index):\n",
    "            if i%2 == 0:\n",
    "                entry = self.Histories[ticker].Close[index]\n",
    "            else:\n",
    "                exit = self.Histories[ticker].Close[index]\n",
    "                profit = exit - entry\n",
    "                profits.append(profit)\n",
    "        profits = np.array(profits)\n",
    "        if np.isnan(profits.mean()):\n",
    "            return 0, None\n",
    "        return profits.mean(), profits\n",
    "        \n",
    "    def clean(self, entry, exit, clean=False):\n",
    "        df = pd.concat([entry.to_frame(), exit.to_frame()], axis=1)\n",
    "        df.index.name = 'Date/Time'\n",
    "        df.sort_values('Date/Time', inplace=True)\n",
    "        if clean:\n",
    "            current=''\n",
    "            for index in df.Entry.index:\n",
    "                if np.isnan(df.Entry[index]):\n",
    "                    if current == 'Entry':\n",
    "                        df.drop(labels=index, axis=0, inplace=True)\n",
    "                    else:\n",
    "                        current = 'Entry'\n",
    "                else:\n",
    "                    if current == 'Exit':\n",
    "                        df.drop(labels=index, axis=0, inplace=True)\n",
    "                    else:\n",
    "                        current = 'Exit'\n",
    "        try:\n",
    "            if np.isnan(df.Entry[df.index[0]]):\n",
    "                df.drop(labels=df.index[0], axis=0, inplace=True)\n",
    "            if np.isnan(df.Exit[df.index[-1]]):\n",
    "                df.drop(labels=df.index[-1], axis=0, inplace=True)\n",
    "        except IndexError:\n",
    "            pass\n",
    "        return df\n",
    "    \n",
    "    # following are the methods used to get the buying and sell times, and overall used in conjunction with\n",
    "    # the Big_Money class in order to get exactly that\n",
    "    \n",
    "    def get_buy_sell(self):\n",
    "        \n",
    "        today = datetime.datetime.today()\n",
    "        today = datetime.datetime(today.year, today.month, today.day)\n",
    "        last_bday = today - BDay()\n",
    "        today_is_bday = bool(len(pd.bdate_range(today, today)))\n",
    "        \n",
    "        df = pd.DataFrame(columns=['Buy', 'BuyTR', 'Sell', 'SellTR'])\n",
    "        for stock, buy, sell in self.Goods:\n",
    "            stuffs = self.Process.ATR_TR(self.Histories[stock], buy), self.Process.ATR_TR(self.Histories[stock], sell, buy_order=False)\n",
    "            try:\n",
    "                if today_is_bday:\n",
    "                    df.loc[stock] = (stuffs[0][0].index[-1].to_pydatetime() == today), stuffs[0][2][-1], (stuffs[1][0].index[-1].to_pydatetime() == today), stuffs[1][2][-1]\n",
    "                else:\n",
    "                    df.loc[stock] = (stuffs[0][0].index[-1].to_pydatetime() == last_bday), stuffs[0][2][-1], (stuffs[1][0].index[-1].to_pydatetime() == last_bday), stuffs[1][2][-1]\n",
    "            except IndexError:\n",
    "                print('Nothing for '+stock)\n",
    "        self.BuySellStop = df\n",
    "        return self.BuySellStop\n",
    "    \n",
    "    def min_max_avg(self):\n",
    "        parse = pd.Series(name='Calculator', dtype='float64')\n",
    "        for ticker, dummy, dummy in self.Goods:\n",
    "            parse[ticker] = self.Histories[ticker].Close[-1]\n",
    "        return parse.min(), parse.max(), parse.mean()"
   ]
  },
  {
   "cell_type": "code",
   "execution_count": 181,
   "metadata": {},
   "outputs": [],
   "source": [
    "APCA_API_BASE_URL = 'https://paper-api.alpaca.markets'\n",
    "APCA_API_KEY_ID = 'PKX916GNMPG19VAFZWH5'\n",
    "APCA_API_SECRET_KEY = '4GTqhKp982FIK0COGiuDthOt/pov9Vqhn7DzcyGJ'\n",
    "\n",
    "\n",
    "tapi = trader.REST(APCA_API_KEY_ID, APCA_API_SECRET_KEY, APCA_API_BASE_URL, api_version='v2')"
   ]
  },
  {
   "cell_type": "code",
   "execution_count": 182,
   "metadata": {},
   "outputs": [
    {
     "data": {
      "text/plain": [
       "Account({   'account_blocked': False,\n",
       "    'account_number': 'PA2MAFFBO1WK',\n",
       "    'buying_power': '399157.864',\n",
       "    'cash': '99275.26',\n",
       "    'created_at': '2020-05-26T02:43:38.960856Z',\n",
       "    'currency': 'USD',\n",
       "    'daytrade_count': 0,\n",
       "    'daytrading_buying_power': '399157.864',\n",
       "    'equity': '100018.32',\n",
       "    'id': '42eb0e5c-a534-495e-8197-9843cd30f217',\n",
       "    'initial_margin': '371.53',\n",
       "    'last_equity': '100009.84',\n",
       "    'last_maintenance_margin': '220.374',\n",
       "    'long_market_value': '743.06',\n",
       "    'maintenance_margin': '222.918',\n",
       "    'multiplier': '4',\n",
       "    'pattern_day_trader': False,\n",
       "    'portfolio_value': '100018.32',\n",
       "    'regt_buying_power': '199293.58',\n",
       "    'short_market_value': '0',\n",
       "    'shorting_enabled': False,\n",
       "    'sma': '0',\n",
       "    'status': 'ACTIVE',\n",
       "    'trade_suspended_by_user': False,\n",
       "    'trading_blocked': False,\n",
       "    'transfers_blocked': False})"
      ]
     },
     "execution_count": 182,
     "metadata": {},
     "output_type": "execute_result"
    }
   ],
   "source": [
    "account = tapi.get_account()\n",
    "account"
   ]
  },
  {
   "cell_type": "code",
   "execution_count": 271,
   "metadata": {},
   "outputs": [],
   "source": [
    "mr_order = tapi.submit_order(\n",
    "    symbol = str.upper('aapl'),\n",
    "    side = 'sell',\n",
    "    type = 'stop',\n",
    "    stop_price = 305,\n",
    "    qty = '1',\n",
    "    time_in_force = 'gtc',\n",
    ")"
   ]
  },
  {
   "cell_type": "code",
   "execution_count": 274,
   "metadata": {},
   "outputs": [
    {
     "data": {
      "text/plain": [
       "('AAPL', 'b7038549-bb2d-4726-b680-9a3115b75250')"
      ]
     },
     "execution_count": 274,
     "metadata": {},
     "output_type": "execute_result"
    }
   ],
   "source": [
    "#tapi.cancel_order(mr_order.id)\n",
    "mr_order.symbol, mr_order.id"
   ]
  },
  {
   "cell_type": "code",
   "execution_count": 259,
   "metadata": {},
   "outputs": [
    {
     "data": {
      "text/plain": [
       "[Position({   'asset_class': 'us_equity',\n",
       "     'asset_id': '5553e8c9-004d-479d-a18c-83a42a87ed10',\n",
       "     'avg_entry_price': '35.85',\n",
       "     'change_today': '0.0019078768056691',\n",
       "     'cost_basis': '358.5',\n",
       "     'current_price': '36.76',\n",
       "     'exchange': 'NYSE',\n",
       "     'lastday_price': '36.69',\n",
       "     'market_value': '367.6',\n",
       "     'qty': '10',\n",
       "     'side': 'long',\n",
       "     'symbol': 'USB',\n",
       "     'unrealized_intraday_pl': '0.7',\n",
       "     'unrealized_intraday_plpc': '0.0019078768056691',\n",
       "     'unrealized_pl': '9.1',\n",
       "     'unrealized_plpc': '0.0253835425383543'}),\n",
       " Position({   'asset_class': 'us_equity',\n",
       "     'asset_id': '71bb19d0-6c5f-4881-9552-33224badd810',\n",
       "     'avg_entry_price': '183.12',\n",
       "     'change_today': '0.0091927763272411',\n",
       "     'cost_basis': '366.24',\n",
       "     'current_price': '185.53',\n",
       "     'exchange': 'NYSE',\n",
       "     'lastday_price': '183.84',\n",
       "     'market_value': '371.06',\n",
       "     'qty': '2',\n",
       "     'side': 'long',\n",
       "     'symbol': 'BRK.B',\n",
       "     'unrealized_intraday_pl': '3.38',\n",
       "     'unrealized_intraday_plpc': '0.0091927763272411',\n",
       "     'unrealized_pl': '4.82',\n",
       "     'unrealized_plpc': '0.0131607688947138'}),\n",
       " Position({   'asset_class': 'us_equity',\n",
       "     'asset_id': 'b0b6dd9d-8b9b-48a9-ba46-b9d54906e415',\n",
       "     'avg_entry_price': '321.72',\n",
       "     'change_today': '-0.000031070374398',\n",
       "     'cost_basis': '321.72',\n",
       "     'current_price': '321.84',\n",
       "     'exchange': 'NASDAQ',\n",
       "     'lastday_price': '321.85',\n",
       "     'market_value': '321.84',\n",
       "     'qty': '1',\n",
       "     'side': 'long',\n",
       "     'symbol': 'AAPL',\n",
       "     'unrealized_intraday_pl': '0.12',\n",
       "     'unrealized_intraday_plpc': '0.000372995151063',\n",
       "     'unrealized_pl': '0.12',\n",
       "     'unrealized_plpc': '0.000372995151063'})]"
      ]
     },
     "execution_count": 259,
     "metadata": {},
     "output_type": "execute_result"
    }
   ],
   "source": [
    "tapi.list_positions()"
   ]
  },
  {
   "cell_type": "code",
   "execution_count": 232,
   "metadata": {},
   "outputs": [],
   "source": [
    "x = lambda x : [[y.symbol, y.qty] for y in x]"
   ]
  },
  {
   "cell_type": "code",
   "execution_count": 277,
   "metadata": {},
   "outputs": [],
   "source": [
    "positions = x(tapi.list_positions())"
   ]
  },
  {
   "cell_type": "code",
   "execution_count": 323,
   "metadata": {},
   "outputs": [
    {
     "name": "stderr",
     "output_type": "stream",
     "text": [
      "/home/hackerman/anaconda3/lib/python3.7/site-packages/ipykernel_launcher.py:113: RuntimeWarning: Mean of empty slice.\n"
     ]
    },
    {
     "name": "stdout",
     "output_type": "stream",
     "text": [
      "38.969486713409424 Seconds Elasped\n"
     ]
    }
   ],
   "source": [
    "stocks = ['aapl', 'msft', 'usb', 'brk-b', 'tsla']\n",
    "stonk = Stoinks(tickers=stocks[::], history=('2y', '1d'))"
   ]
  },
  {
   "cell_type": "code",
   "execution_count": 324,
   "metadata": {},
   "outputs": [
    {
     "name": "stderr",
     "output_type": "stream",
     "text": [
      "/home/hackerman/anaconda3/lib/python3.7/site-packages/ipykernel_launcher.py:167: DeprecationWarning: The default dtype for empty Series will be 'object' instead of 'float64' in a future version. Specify a dtype explicitly to silence this warning.\n"
     ]
    },
    {
     "data": {
      "text/plain": [
       "(184.91, 881.56, 393.9375)"
      ]
     },
     "execution_count": 324,
     "metadata": {},
     "output_type": "execute_result"
    }
   ],
   "source": [
    "stonk.min_max_avg()"
   ]
  },
  {
   "cell_type": "code",
   "execution_count": 278,
   "metadata": {},
   "outputs": [
    {
     "data": {
      "text/plain": [
       "[['USB', '10'], ['BRK.B', '2'], ['AAPL', '1']]"
      ]
     },
     "execution_count": 278,
     "metadata": {},
     "output_type": "execute_result"
    }
   ],
   "source": [
    "positions"
   ]
  },
  {
   "cell_type": "code",
   "execution_count": 280,
   "metadata": {},
   "outputs": [],
   "source": [
    "class Big_Money(threading.Thread):\n",
    "    def __init__(self,api, stocks, Stonk):\n",
    "        threading.Thread.__init__(self)\n",
    "        self.api = api\n",
    "        if Stonk is None:\n",
    "            self.Stonk = Stonks(stocks = stocks, history=('2y', '1d'))\n",
    "        else:\n",
    "            self.Stonk = Stonk\n",
    "        \n",
    "    def run(self, seconds):\n",
    "        self.seconds = seconds\n",
    "        while self.seconds > 0:\n",
    "            self.clock = self.api.get_clock()\n",
    "            # three methods will be used here\n",
    "            self.wait_for_market()\n",
    "            self.seconds -= 10\n",
    "            self.reorder()\n",
    "            self.seconds -= 10\n",
    "            self.recalculate()\n",
    "    def wait_for_market(self):\n",
    "        while self.clock.next_open < self.clock.next_close and self.seconds > 0:\n",
    "            print(self.clock.timestamp)\n",
    "            time.sleep(10)\n",
    "            self.seconds -= 10\n",
    "    def reorder(self):\n",
    "        print('This is when the actual effects happen and work on the actual market is put into place.')\n",
    "        for stock, amount in positions:\n",
    "            print('Currently we have '+str(amount)+' '+str(stock)+' stocks.')\n",
    "            self.seconds -= 0.5\n",
    "    def recalculate(self):\n",
    "        while self.clock.next_open > self.clock.next_close and self.seconds > 0:\n",
    "            self.clock = self.api.get_clock()\n",
    "            print(self.clock.timestamp)\n",
    "            time.sleep(2)\n",
    "            self.seconds -= 10\n",
    "        if not(pd.bdate_range(datetime.date.fromordinal(datetime.date.today().toordinal()+1), datetime.date.fromordinal(datetime.date.today().toordinal()+1))).astype(bool)[0]:\n",
    "            print('This is what we do on weekends and free days!')\n",
    "        else:\n",
    "            print('This is when the rebalancing happens and the calculations for all the profit and such.')"
   ]
  },
  {
   "cell_type": "code",
   "execution_count": 281,
   "metadata": {},
   "outputs": [],
   "source": [
    "program = Big_Money(tapi, None, stonk)"
   ]
  },
  {
   "cell_type": "code",
   "execution_count": 282,
   "metadata": {},
   "outputs": [
    {
     "name": "stdout",
     "output_type": "stream",
     "text": [
      "This is when the actual effects happen and work on the actual market is put into place.\n",
      "Currently we have 10 USB stocks.\n",
      "Currently we have 2 BRK.B stocks.\n",
      "Currently we have 1 AAPL stocks.\n",
      "2020-06-02 15:06:45.043181357-04:00\n",
      "2020-06-02 15:06:47.086805898-04:00\n",
      "2020-06-02 15:06:49.125532915-04:00\n",
      "2020-06-02 15:06:51.164596008-04:00\n",
      "This is when the rebalancing happens and the calculations for all the profit and such.\n"
     ]
    }
   ],
   "source": [
    "program.run(60)"
   ]
  },
  {
   "cell_type": "code",
   "execution_count": 134,
   "metadata": {},
   "outputs": [],
   "source": [
    "clock = tapi.get_clock()"
   ]
  },
  {
   "cell_type": "code",
   "execution_count": 140,
   "metadata": {},
   "outputs": [
    {
     "data": {
      "text/plain": [
       "False"
      ]
     },
     "execution_count": 140,
     "metadata": {},
     "output_type": "execute_result"
    }
   ],
   "source": [
    "clock.next_open > clock.next_close"
   ]
  },
  {
   "cell_type": "code",
   "execution_count": 130,
   "metadata": {},
   "outputs": [
    {
     "data": {
      "text/plain": [
       "False"
      ]
     },
     "execution_count": 130,
     "metadata": {},
     "output_type": "execute_result"
    }
   ],
   "source": [
    "# checks if tomorrow is a weekday\n",
    "not(pd.bdate_range(datetime.date.fromordinal(datetime.date.today().toordinal()+1), datetime.date.fromordinal(datetime.date.today().toordinal()+1))).astype(bool)[0]"
   ]
  },
  {
   "cell_type": "code",
   "execution_count": 293,
   "metadata": {},
   "outputs": [],
   "source": [
    "#  81 : 19 = ratio of long to short\n",
    "stock_price = 28\n",
    "\n",
    "stocks_to_buy = 300 // stock_price"
   ]
  },
  {
   "cell_type": "code",
   "execution_count": 343,
   "metadata": {},
   "outputs": [
    {
     "name": "stderr",
     "output_type": "stream",
     "text": [
      "/home/hackerman/anaconda3/lib/python3.7/site-packages/ipykernel_launcher.py:167: DeprecationWarning: The default dtype for empty Series will be 'object' instead of 'float64' in a future version. Specify a dtype explicitly to silence this warning.\n"
     ]
    },
    {
     "data": {
      "text/plain": [
       "9.0"
      ]
     },
     "execution_count": 343,
     "metadata": {},
     "output_type": "execute_result"
    }
   ],
   "source": [
    "# me thinking out how to figure out how many stocks to buy:\n",
    "\n",
    "#first need to figure out money we have vs avg, min, and max stock costs\n",
    "\n",
    "account_cash = float(tapi.get_account().cash) - 5000\n",
    "\n",
    "mini, maxi, aver = stonk.min_max_avg()\n",
    "\n",
    "stock_price = 40\n",
    "\n",
    "stocks_to_buy = aver // stock_price\n",
    "stocks_to_buy"
   ]
  },
  {
   "cell_type": "code",
   "execution_count": 338,
   "metadata": {},
   "outputs": [
    {
     "data": {
      "text/plain": [
       "106.0"
      ]
     },
     "execution_count": 338,
     "metadata": {},
     "output_type": "execute_result"
    }
   ],
   "source": [
    "account_cash // maxi"
   ]
  },
  {
   "cell_type": "code",
   "execution_count": 339,
   "metadata": {},
   "outputs": [
    {
     "data": {
      "text/plain": [
       "508.0"
      ]
     },
     "execution_count": 339,
     "metadata": {},
     "output_type": "execute_result"
    }
   ],
   "source": [
    "account_cash // mini"
   ]
  },
  {
   "cell_type": "code",
   "execution_count": 340,
   "metadata": {},
   "outputs": [
    {
     "data": {
      "text/plain": [
       "238.0"
      ]
     },
     "execution_count": 340,
     "metadata": {},
     "output_type": "execute_result"
    }
   ],
   "source": [
    "account_cash // aver"
   ]
  },
  {
   "cell_type": "code",
   "execution_count": null,
   "metadata": {},
   "outputs": [],
   "source": []
  }
 ],
 "metadata": {
  "kernelspec": {
   "display_name": "Python 3",
   "language": "python",
   "name": "python3"
  },
  "language_info": {
   "codemirror_mode": {
    "name": "ipython",
    "version": 3
   },
   "file_extension": ".py",
   "mimetype": "text/x-python",
   "name": "python",
   "nbconvert_exporter": "python",
   "pygments_lexer": "ipython3",
   "version": "3.7.7"
  }
 },
 "nbformat": 4,
 "nbformat_minor": 4
}
